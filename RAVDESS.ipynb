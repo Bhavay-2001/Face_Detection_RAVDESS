{
  "nbformat": 4,
  "nbformat_minor": 0,
  "metadata": {
    "colab": {
      "name": "RAVDESS.ipynb",
      "provenance": [],
      "collapsed_sections": []
    },
    "kernelspec": {
      "name": "python3",
      "display_name": "Python 3"
    },
    "language_info": {
      "name": "python"
    },
    "accelerator": "GPU"
  },
  "cells": [
    {
      "cell_type": "markdown",
      "source": [
        "## *Import the Libraries*"
      ],
      "metadata": {
        "id": "mv9erhZB3W5b"
      }
    },
    {
      "cell_type": "code",
      "source": [
        "from google.colab import drive\n",
        "import os\n",
        "from zipfile import ZipFile \n",
        "import shutil\n",
        "from os.path import exists, join, basename, splitext\n",
        "import pandas as pd\n",
        "from sklearn.model_selection import train_test_split\n",
        "from sklearn.svm import SVC\n",
        "from sklearn.ensemble import RandomForestClassifier\n",
        "from sklearn.metrics import precision_score\n",
        "from sklearn.metrics import recall_score\n",
        "from sklearn.metrics import f1_score"
      ],
      "metadata": {
        "id": "TdKKcy2O2qth"
      },
      "execution_count": null,
      "outputs": []
    },
    {
      "cell_type": "markdown",
      "source": [
        "## *Downloading the Data*\n",
        "\n",
        "Downloaded the data from the google drive, unzipped the folder and then further unzipped the folder to extract all the videos."
      ],
      "metadata": {
        "id": "9XdoIn_m3ekt"
      }
    },
    {
      "cell_type": "code",
      "source": [
        "drive.mount('/content/drive')"
      ],
      "metadata": {
        "id": "IO8fGonI2bkV"
      },
      "execution_count": null,
      "outputs": []
    },
    {
      "cell_type": "code",
      "source": [
        "!unzip /content/drive/MyDrive/Data/audio-video.zip"
      ],
      "metadata": {
        "id": "8esD93Bo2YmC"
      },
      "execution_count": null,
      "outputs": []
    },
    {
      "cell_type": "code",
      "source": [
        "for folder in os.listdir('/content/audio-video'):\n",
        "  with ZipFile('/content/audio-video/' + folder, 'r') as zipObj:\n",
        "   zipObj.extractall('/content/data/')\n"
      ],
      "metadata": {
        "id": "-icKb06lrPRV"
      },
      "execution_count": 3,
      "outputs": []
    },
    {
      "cell_type": "code",
      "source": [
        "shutil.rmtree('/content/audio-video')"
      ],
      "metadata": {
        "id": "2pJ_kJuB5vgs"
      },
      "execution_count": 5,
      "outputs": []
    },
    {
      "cell_type": "code",
      "source": [
        "os.mkdir('/content/videos/')"
      ],
      "metadata": {
        "id": "9vguqJW3Ngxc"
      },
      "execution_count": 6,
      "outputs": []
    },
    {
      "cell_type": "code",
      "source": [
        "for folder in os.listdir('/content/data'):\n",
        "  for video in os.listdir('/content/data/' + folder):\n",
        "    shutil.copy('/content/data/' + folder + '/' + video, '/content/videos/' + video)"
      ],
      "metadata": {
        "id": "MV8FdWiGY6zK"
      },
      "execution_count": 7,
      "outputs": []
    },
    {
      "cell_type": "code",
      "source": [
        "shutil.rmtree('/content/data')"
      ],
      "metadata": {
        "id": "Ik2CVBAYid1h"
      },
      "execution_count": 8,
      "outputs": []
    },
    {
      "cell_type": "markdown",
      "source": [
        "## *Downloading and installing the OpenFace Library*\n",
        "\n",
        "Downloaded the OpenFace Library which is a library used for facial emotion detection."
      ],
      "metadata": {
        "id": "Ldg75FUF3jDs"
      }
    },
    {
      "cell_type": "code",
      "source": [
        "git_repo_url = 'https://github.com/TadasBaltrusaitis/OpenFace.git'\n",
        "project_name = splitext(basename(git_repo_url))[0]\n",
        "# clone openface\n",
        "!git clone -q --depth 1 $git_repo_url\n",
        "\n",
        "# install new CMake becaue of CUDA10\n",
        "!wget -q https://cmake.org/files/v3.13/cmake-3.13.0-Linux-x86_64.tar.gz\n",
        "!tar xfz cmake-3.13.0-Linux-x86_64.tar.gz --strip-components=1 -C /usr/local\n",
        "\n",
        "# Get newest GCC\n",
        "!sudo apt-get update\n",
        "!sudo apt-get install build-essential \n",
        "!sudo apt-get install g++-8\n",
        "\n",
        "# # install python dependencies\n",
        "# !pip install -q youtube-dl\n",
        "\n",
        "# Finally, actually install OpenFace\n",
        "!cd OpenFace && bash ./download_models.sh && sudo bash ./install.sh"
      ],
      "metadata": {
        "id": "9rrX0-ZN2S-U"
      },
      "execution_count": null,
      "outputs": []
    },
    {
      "cell_type": "markdown",
      "source": [
        "## *Extracting the Action Units (AU)*\n",
        "\n",
        "Used the OpenFace Library to extract Action Units from the videos of the actors"
      ],
      "metadata": {
        "id": "0fyWvAXF3sZ6"
      }
    },
    {
      "cell_type": "code",
      "source": [
        "!python3 /content/AUsFeatureExtractor.py --videos_dir '/content/videos' --openFace_path /content/OpenFace --out_dir /content/Extracted_AUs --out_dir_processed /content/processed_AUs"
      ],
      "metadata": {
        "id": "ua3zlsYwikHb"
      },
      "execution_count": null,
      "outputs": []
    },
    {
      "cell_type": "markdown",
      "source": [
        "## *Preprocessing the Data*\n",
        "\n",
        "Extracted the Action Units from the videos and store them in a csv file format in order to further process the data. Built a dataframe out of all the AUs and extracted features and labels from it. Further divided the data into train-test split."
      ],
      "metadata": {
        "id": "UQwZjFCu4Aze"
      }
    },
    {
      "cell_type": "code",
      "source": [
        "def process_AU(emb_path):\n",
        "  X_total = pd.DataFrame([])\n",
        "  for video_embs in os.listdir(emb_path):\n",
        "    embs_df = pd.read_csv(os.path.join(emb_path, video_embs), sep=\";\")\n",
        "    aux_df = pd.DataFrame([embs_df.mean()])\n",
        "    X_total = X_total.append(aux_df)\n",
        "\n",
        "  return X_total"
      ],
      "metadata": {
        "id": "tunnz_R2owaK"
      },
      "execution_count": 1,
      "outputs": []
    },
    {
      "cell_type": "code",
      "source": [
        "X_total = process_AU('/content/processed_AUs')"
      ],
      "metadata": {
        "id": "_mSNrqmdtGkW"
      },
      "execution_count": null,
      "outputs": []
    },
    {
      "cell_type": "code",
      "source": [
        "def clean_df(df):\n",
        "  df[\"emotion\"] = pd.to_numeric(df[\"emotion\"])\n",
        "  df = df.drop([\"index\", \"path\", \"video_name\", \"actor\"], axis=1)\n",
        "  labels = df[\"emotion\"]\n",
        "  features = df.drop([\"emotion\"])\n",
        "  return features, labels"
      ],
      "metadata": {
        "id": "1ozkIm-jqNF4"
      },
      "execution_count": 2,
      "outputs": []
    },
    {
      "cell_type": "code",
      "source": [
        "features, labels = clean_df(X_total)"
      ],
      "metadata": {
        "id": "egBOrL8ntH_L"
      },
      "execution_count": null,
      "outputs": []
    },
    {
      "cell_type": "code",
      "source": [
        "def generate_train_test(features, labels):\n",
        "  X_train, X_test, y_train, y_test = train_test_split(features, labels, test_size=0.2)\n",
        "\n",
        "  return X_train, X_test, y_train, y_test"
      ],
      "metadata": {
        "id": "GU7rARGttRGl"
      },
      "execution_count": 4,
      "outputs": []
    },
    {
      "cell_type": "code",
      "source": [
        "X_train, X_test, y_train, y_test = generate_train_test(features, labels)"
      ],
      "metadata": {
        "id": "bgV2ibwCwZGl"
      },
      "execution_count": null,
      "outputs": []
    },
    {
      "cell_type": "markdown",
      "source": [
        "## *Training the Model*\n",
        "\n",
        "Used 2 Machine Learning Algorithms SVM and Random Forest Classifier to train on the training dataset of AUs and predicted the result using the test set."
      ],
      "metadata": {
        "id": "qunb1Yyk4GOb"
      }
    },
    {
      "cell_type": "code",
      "source": [
        "svm_model = SVC(C = 1.0)\n",
        "svm_model.fit(X_train, y_train)\n",
        "\n",
        "y_pred_svm = svm_model.predict(X_test)"
      ],
      "metadata": {
        "id": "uqLW1u2JwdPl"
      },
      "execution_count": null,
      "outputs": []
    },
    {
      "cell_type": "code",
      "source": [
        "randomForest_model = RandomForestClassifer(n_estimators = 100, max_depth = 3)\n",
        "randomForest_model.fit(X_train, y_train)\n",
        "\n",
        "y_pred_rdm = randomForest_model.predict(X_test)"
      ],
      "metadata": {
        "id": "WyPmZsct6uVy"
      },
      "execution_count": null,
      "outputs": []
    },
    {
      "cell_type": "markdown",
      "source": [
        "## *Evaluation of Results*\n",
        "\n",
        "Calculated the Precision, Recall and the F1 score of both the models."
      ],
      "metadata": {
        "id": "cW40ZKGV4yzM"
      }
    },
    {
      "cell_type": "code",
      "source": [
        "print(\"Precision Score for SVM Model is:\", precision_score(y_test, y_pred_svm))\n",
        "print(\"Recall Score for SVM Model is:\", recall_score(y_test, y_pred_svm))\n",
        "print(\"F1 Score for SVM Model is:\", f1_score(y_test, y_pred_svm))"
      ],
      "metadata": {
        "id": "jTtzr1-x5P2g"
      },
      "execution_count": null,
      "outputs": []
    },
    {
      "cell_type": "code",
      "source": [
        "print(\"Precision Score for Random Forest Model is:\", precision_score(y_test, y_pred_rdm))\n",
        "print(\"Recall Score for Random Forest Model is:\", recall_score(y_test, y_pred_rdm))\n",
        "print(\"F1 Score for Random Forest Model is:\", f1_Score(y_test, y_pred_rdm))"
      ],
      "metadata": {
        "id": "_vnJeL545TdM"
      },
      "execution_count": null,
      "outputs": []
    }
  ]
}